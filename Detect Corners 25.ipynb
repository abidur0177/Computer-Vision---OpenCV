{
 "cells": [
  {
   "cell_type": "code",
   "execution_count": 2,
   "metadata": {},
   "outputs": [],
   "source": [
    "import cv2\n",
    "import numpy as np\n",
    "import matplotlib.pyplot as plt\n",
    "%matplotlib inline"
   ]
  },
  {
   "cell_type": "code",
   "execution_count": 3,
   "metadata": {},
   "outputs": [
    {
     "name": "stdout",
     "output_type": "stream",
     "text": [
      "(500, 700)\n",
      "(500, 700)\n"
     ]
    }
   ],
   "source": [
    "img = cv2.imread('chess.jpg')\n",
    "img = cv2.resize(img,(700,500))\n",
    "cv2.imshow('Image',img)\n",
    "\n",
    "gray = cv2.imread('chess.jpg',0)\n",
    "gray = cv2.resize(gray,(700,500))\n",
    "gray = np.float32(gray) #because the harris corner take float 32 format\n",
    "\n",
    "dst = cv2.cornerHarris(gray,2,3,0.04)\n",
    "print(dst.shape)\n",
    "cv2.imshow('Without Dilate',dst)\n",
    "\n",
    "dst = cv2.dilate(dst,None) #to get the better result\n",
    "print(dst.shape)\n",
    "\n",
    "img[dst>.01*dst.max()] = [0,0,255]\n",
    "cv2.imshow('Dst',img)\n",
    "cv2.imshow('Dilate',dst)\n",
    "\n",
    "if cv2.waitKey(0) & 0xFF == 27:\n",
    "    cv2.destroyAllWindows()\n"
   ]
  },
  {
   "cell_type": "markdown",
   "metadata": {},
   "source": [
    "### Detect with Shi Tomasi detector"
   ]
  },
  {
   "cell_type": "code",
   "execution_count": 4,
   "metadata": {},
   "outputs": [],
   "source": [
    "img = cv2.imread('chess.jpg')\n",
    "img = cv2.resize(img,(700,500))\n",
    "\n",
    "gray = cv2.imread('chess.jpg',0)\n",
    "gray = cv2.resize(gray,(700,500))\n",
    "\n",
    "corners = cv2.goodFeaturesToTrack(gray, 30, 0.01, 10)\n",
    "corners = np.int0(corners)\n",
    "\n",
    "for i in corners:\n",
    "    x,y = i.ravel()\n",
    "    cv2.circle(img, (x,y), 3, (0,0,255), -1)\n",
    "    \n",
    "cv2.imshow('Dst',img)\n",
    "cv2.waitKey(0)\n",
    "cv2.destroyAllWindows()"
   ]
  },
  {
   "cell_type": "code",
   "execution_count": null,
   "metadata": {},
   "outputs": [],
   "source": []
  }
 ],
 "metadata": {
  "kernelspec": {
   "display_name": "Python 3",
   "language": "python",
   "name": "python3"
  },
  "language_info": {
   "codemirror_mode": {
    "name": "ipython",
    "version": 3
   },
   "file_extension": ".py",
   "mimetype": "text/x-python",
   "name": "python",
   "nbconvert_exporter": "python",
   "pygments_lexer": "ipython3",
   "version": "3.8.3"
  }
 },
 "nbformat": 4,
 "nbformat_minor": 4
}
