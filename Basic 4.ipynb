{
 "cells": [
  {
   "cell_type": "code",
   "execution_count": 13,
   "metadata": {},
   "outputs": [],
   "source": [
    "import cv2\n",
    "import numpy as np"
   ]
  },
  {
   "cell_type": "code",
   "execution_count": 14,
   "metadata": {},
   "outputs": [
    {
     "name": "stdout",
     "output_type": "stream",
     "text": [
      "(512, 512, 3) \n",
      "\n",
      "786432 \n",
      "\n",
      "uint8 \n",
      "\n"
     ]
    }
   ],
   "source": [
    "img1 = cv2.imread('apple.jpg')\n",
    "print(img1.shape,'\\n')\n",
    "print(img1.size,'\\n')\n",
    "print(img1.dtype,'\\n')\n",
    "b,g,r = cv2.split(img1)\n",
    "img2 = cv2.merge((b,g,r))\n",
    "cv2.imshow('image',img1)\n",
    "cv2.waitKey(0)\n",
    "cv2.destroyAllWindows()"
   ]
  },
  {
   "cell_type": "code",
   "execution_count": 15,
   "metadata": {},
   "outputs": [],
   "source": [
    "b = img1[13:100,23:91,0] #get only roi\n",
    "g = img1[13:100,23:91,1]\n",
    "r = img1[13:100,23:91,2]\n",
    "img2 = cv2.merge((b,g,r))\n",
    "cv2.imshow('image',img2)\n",
    "cv2.waitKey(0)\n",
    "cv2.destroyAllWindows()"
   ]
  },
  {
   "cell_type": "code",
   "execution_count": 16,
   "metadata": {},
   "outputs": [],
   "source": [
    "# Get the ball ROI and paste elsewhere\n",
    "ball = img1[280:340, 330:390]\n",
    "img1[100:160,200:260] = ball #replace the value with the ball\n",
    "cv2.imshow('image',img)\n",
    "cv2.waitKey(0)\n",
    "cv2.destroyAllWindows()"
   ]
  },
  {
   "cell_type": "code",
   "execution_count": 17,
   "metadata": {},
   "outputs": [],
   "source": [
    "#Adding two images\n",
    "img2 = cv2.imread('baboon.jpg')\n",
    "new_added = cv2.add(img1,img2)\n",
    "cv2.imshow('image',new_added)\n",
    "cv2.waitKey(0)\n",
    "cv2.destroyAllWindows()"
   ]
  },
  {
   "cell_type": "code",
   "execution_count": 24,
   "metadata": {},
   "outputs": [],
   "source": [
    "#Adding two images by addweighted\n",
    "new = cv2.addWeighted(img1, .5, img2, .4, 0)\n",
    "cv2.imshow('image',new)\n",
    "cv2.waitKey(0)\n",
    "cv2.destroyAllWindows()"
   ]
  },
  {
   "cell_type": "code",
   "execution_count": 26,
   "metadata": {},
   "outputs": [],
   "source": [
    "#Resize Image\n",
    "resize =cv2.resize(img1, (212,212))\n",
    "cv2.imshow('image',resize)\n",
    "cv2.waitKey(0)\n",
    "cv2.destroyAllWindows()"
   ]
  },
  {
   "cell_type": "code",
   "execution_count": null,
   "metadata": {},
   "outputs": [],
   "source": []
  }
 ],
 "metadata": {
  "kernelspec": {
   "display_name": "Python 3",
   "language": "python",
   "name": "python3"
  },
  "language_info": {
   "codemirror_mode": {
    "name": "ipython",
    "version": 3
   },
   "file_extension": ".py",
   "mimetype": "text/x-python",
   "name": "python",
   "nbconvert_exporter": "python",
   "pygments_lexer": "ipython3",
   "version": "3.8.3"
  }
 },
 "nbformat": 4,
 "nbformat_minor": 4
}
