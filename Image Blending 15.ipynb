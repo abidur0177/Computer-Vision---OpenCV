{
 "cells": [
  {
   "cell_type": "code",
   "execution_count": 1,
   "metadata": {},
   "outputs": [],
   "source": [
    "import cv2\n",
    "import matplotlib.pyplot as plt\n",
    "import numpy as np"
   ]
  },
  {
   "cell_type": "code",
   "execution_count": 5,
   "metadata": {},
   "outputs": [
    {
     "name": "stdout",
     "output_type": "stream",
     "text": [
      "(512, 512, 3)\n",
      "(512, 512, 3)\n"
     ]
    }
   ],
   "source": [
    "#application of image pyramid is image blending and reconstruction of image\n",
    "apple = cv2.imread('apple.jpg')\n",
    "orange = cv2.imread('orange.jpg')\n",
    "print(apple.shape)\n",
    "print(orange.shape)\n",
    "#first create the halve of these two\n",
    "apple_orange = np.hstack((apple[:,:256],orange[:,256:])) #doing this will merge the image but there will be visible\n",
    "#seperation line. To blend it perfectly, we need to follow 5 steps\n",
    "# 1. Load the two images\n",
    "# 2. Find the gaussian pyramid for both with level 6\n",
    "# 3. from gaussian find their laplacian\n",
    "# 4. Join the left half of apple and right half of orange in each level\n",
    "# 5. From this joint image pyramid, reconstruct them\n",
    "\n",
    "cv2.imshow('Apple',apple)\n",
    "cv2.imshow('Orange',orange)\n",
    "cv2.imshow('Apple_Orange',apple_orange)\n",
    "cv2.waitKey(0)\n",
    "cv2.destroyAllWindows()"
   ]
  },
  {
   "cell_type": "markdown",
   "metadata": {},
   "source": [
    "### Image blending"
   ]
  },
  {
   "cell_type": "code",
   "execution_count": 28,
   "metadata": {},
   "outputs": [
    {
     "name": "stdout",
     "output_type": "stream",
     "text": [
      "7\n",
      "7\n"
     ]
    },
    {
     "ename": "error",
     "evalue": "OpenCV(4.4.0) C:\\Users\\appveyor\\AppData\\Local\\Temp\\1\\pip-req-build-h4wtvo23\\opencv\\modules\\core\\src\\arithm.cpp:669: error: (-209:Sizes of input arguments do not match) The operation is neither 'array op array' (where arrays have the same size and the same number of channels), nor 'array op scalar', nor 'scalar op array' in function 'cv::arithm_op'\n",
     "output_type": "error",
     "traceback": [
      "\u001b[1;31m---------------------------------------------------------------------------\u001b[0m",
      "\u001b[1;31merror\u001b[0m                                     Traceback (most recent call last)",
      "\u001b[1;32m<ipython-input-28-af29fe44d751>\u001b[0m in \u001b[0;36m<module>\u001b[1;34m\u001b[0m\n\u001b[0;32m     22\u001b[0m \u001b[1;32mfor\u001b[0m \u001b[0mi\u001b[0m \u001b[1;32min\u001b[0m \u001b[0mrange\u001b[0m\u001b[1;33m(\u001b[0m\u001b[1;36m5\u001b[0m\u001b[1;33m,\u001b[0m\u001b[1;36m0\u001b[0m\u001b[1;33m,\u001b[0m\u001b[1;33m-\u001b[0m\u001b[1;36m1\u001b[0m\u001b[1;33m)\u001b[0m\u001b[1;33m:\u001b[0m\u001b[1;33m\u001b[0m\u001b[1;33m\u001b[0m\u001b[0m\n\u001b[0;32m     23\u001b[0m     \u001b[0mgaussian_extended\u001b[0m \u001b[1;33m=\u001b[0m \u001b[0mcv2\u001b[0m\u001b[1;33m.\u001b[0m\u001b[0mpyrUp\u001b[0m\u001b[1;33m(\u001b[0m\u001b[0mgp_apple\u001b[0m\u001b[1;33m[\u001b[0m\u001b[0mi\u001b[0m\u001b[1;33m]\u001b[0m\u001b[1;33m)\u001b[0m\u001b[1;33m\u001b[0m\u001b[1;33m\u001b[0m\u001b[0m\n\u001b[1;32m---> 24\u001b[1;33m     \u001b[0mlaplacian\u001b[0m \u001b[1;33m=\u001b[0m \u001b[0mcv2\u001b[0m\u001b[1;33m.\u001b[0m\u001b[0msubtract\u001b[0m\u001b[1;33m(\u001b[0m\u001b[0mgp_apple\u001b[0m\u001b[1;33m[\u001b[0m\u001b[0mi\u001b[0m\u001b[1;33m-\u001b[0m\u001b[1;36m1\u001b[0m\u001b[1;33m]\u001b[0m\u001b[1;33m,\u001b[0m\u001b[0mgaussian_extended\u001b[0m\u001b[1;33m)\u001b[0m\u001b[1;33m\u001b[0m\u001b[1;33m\u001b[0m\u001b[0m\n\u001b[0m\u001b[0;32m     25\u001b[0m     \u001b[0mlp_apple\u001b[0m\u001b[1;33m.\u001b[0m\u001b[0mappend\u001b[0m\u001b[1;33m(\u001b[0m\u001b[0mlaplacian\u001b[0m\u001b[1;33m)\u001b[0m\u001b[1;33m\u001b[0m\u001b[1;33m\u001b[0m\u001b[0m\n\u001b[0;32m     26\u001b[0m \u001b[0mprint\u001b[0m\u001b[1;33m(\u001b[0m\u001b[0mlen\u001b[0m\u001b[1;33m(\u001b[0m\u001b[0mlp_apple\u001b[0m\u001b[1;33m)\u001b[0m\u001b[1;33m)\u001b[0m\u001b[1;33m\u001b[0m\u001b[1;33m\u001b[0m\u001b[0m\n",
      "\u001b[1;31merror\u001b[0m: OpenCV(4.4.0) C:\\Users\\appveyor\\AppData\\Local\\Temp\\1\\pip-req-build-h4wtvo23\\opencv\\modules\\core\\src\\arithm.cpp:669: error: (-209:Sizes of input arguments do not match) The operation is neither 'array op array' (where arrays have the same size and the same number of channels), nor 'array op scalar', nor 'scalar op array' in function 'cv::arithm_op'\n"
     ]
    }
   ],
   "source": [
    "#generate gaussian for apple\n",
    "apple_copy = apple.copy()\n",
    "gp_apple = [apple_copy]\n",
    "\n",
    "for i in range(6):\n",
    "    layer = cv2.pyrDown(apple_copy)\n",
    "    gp_apple.append(layer)\n",
    "print(len(gp_apple))\n",
    "\n",
    "#generate gaussian for apple\n",
    "orange_copy = orange.copy()\n",
    "gp_orange = [orange_copy]\n",
    "\n",
    "for i in range(6):\n",
    "    layer = cv2.pyrDown(orange_copy)\n",
    "    gp_orange.append(layer)\n",
    "print(len(gp_orange))\n",
    "\n",
    "#generate laplacian for apple\n",
    "apple_copy = gp_apple[5]\n",
    "lp_apple = [apple_copy]\n",
    "for i in range(5,0,-1):\n",
    "    gaussian_extended = cv2.pyrUp(gp_apple[i])\n",
    "    laplacian = cv2.subtract(gp_apple[i-1],gaussian_extended)\n",
    "    lp_apple.append(laplacian)\n",
    "print(len(lp_apple))\n",
    "    \n",
    "#generate laplacian for orange\n",
    "orange_copy = gp_orange[5]\n",
    "lp_orange = [orange_copy]\n",
    "for i in range(5,0,-1):\n",
    "    gaussian_extended = cv2.pyrUp(gp_orange[i])\n",
    "    laplacian = cv2.subtract(gp_orange[i-1],gaussian_extended)\n",
    "    lp_orange.append(laplacian)\n",
    "print(len(lp_orange))\n",
    "\n",
    "\n",
    "#now add left and right halves of images\n",
    "apple_orange_pyramid = []\n",
    "n = 0\n",
    "\n",
    "for apple_lap,orange_lap in zip(lp_apple,lp_orange):\n",
    "    n += 1\n",
    "    cols, rows, channels = apple_lap.shape\n",
    "    laplacian = np.hstack((apple_lap[:,0:int(cols/2)]),(orange_lap[:,int(cols/2):]))\n",
    "    apple_orange_pyramid.append(laplacian)\n",
    "    \n",
    "#reconstruct the image\n",
    "ap_or_reconstruct = [apple_orange_pyramid]\n",
    "for i in range(1,6):\n",
    "    ap_or_reconstruct = cv2.pyrUp(ap_or_reconstruct)\n",
    "    ap_or_reconstruct = cv2.add(apple_orange_pyramid[i],ap_or_reconstruct)\n",
    "\n",
    "cv2.imshow('APple Oragne', ap_or_reconstruct)\n",
    "cv2.waitKey(0)\n",
    "cv2.destroyAllWindows()"
   ]
  },
  {
   "cell_type": "code",
   "execution_count": 49,
   "metadata": {},
   "outputs": [
    {
     "name": "stdout",
     "output_type": "stream",
     "text": [
      "(512, 512, 3)\n",
      "(256, 256, 3)\n",
      "(128, 128, 3)\n",
      "(64, 64, 3)\n",
      "(32, 32, 3)\n"
     ]
    }
   ],
   "source": [
    "apple = cv2.imread('apple.jpg')\n",
    "orange = cv2.imread('orange.jpg')\n",
    "#print(apple.shape)\n",
    "#print(orange.shape)\n",
    "cv2.imshow('Image',apple)\n",
    "\n",
    "apple_copy = apple.copy()\n",
    "print(apple_copy.shape)\n",
    "for i in range(4):\n",
    "    apple_copy = cv2.pyrDown(apple_copy)\n",
    "    print(apple_copy.shape)\n",
    "    cv2.imshow(str(i),apple_copy)\n",
    "cv2.waitKey(0)\n",
    "cv2.destroyAllWindows()"
   ]
  },
  {
   "cell_type": "code",
   "execution_count": 10,
   "metadata": {},
   "outputs": [
    {
     "name": "stdout",
     "output_type": "stream",
     "text": [
      "(512, 512, 3)\n",
      "(256, 256, 3)\n",
      "(128, 128, 3)\n",
      "(64, 64, 3)\n",
      "(32, 32, 3)\n",
      "\n",
      "\n",
      "Lap First:  (32, 32, 3)\n",
      "Lap Second:  (32, 32, 3)\n",
      "Length of LS:  5\n"
     ]
    }
   ],
   "source": [
    "apple = cv2.imread('apple.jpg')\n",
    "orange = cv2.imread('orange.jpg')\n",
    "\n",
    "#generate gaussian for apple\n",
    "apple_copy = apple.copy()\n",
    "first = [apple_copy]\n",
    "for i in range(4):\n",
    "    apple_copy = cv2.pyrDown(apple_copy)\n",
    "    first.append(apple_copy)\n",
    "    \n",
    "for i in range(5):\n",
    "    print(first[i].shape)\n",
    "print('\\n')\n",
    " \n",
    "#generate gaussian for orange\n",
    "orange_copy = orange.copy()\n",
    "second = [orange_copy]\n",
    "for i in range(4):\n",
    "    orange_copy = cv2.pyrDown(orange_copy)\n",
    "    second.append(orange_copy)\n",
    "    \n",
    "#Laplacian for apple\n",
    "lpF = [first[4]]\n",
    "print('Lap First: ',lpF[0].shape)\n",
    "\n",
    "for i in range(4,0,-1):\n",
    "    size = (first[i - 1].shape[1],first[i - 1].shape[0])\n",
    "    first_expanded = cv2.pyrUp(first[i],dstsize=size)\n",
    "    laplacian = cv2.subtract(first[i-1], first_expanded)\n",
    "    lpF.append(laplacian)\n",
    "\n",
    "#Laplacian for orange\n",
    "lpS = [second[4]]\n",
    "print('Lap Second: ',lpS[0].shape)\n",
    "\n",
    "for i in range(4,0,-1):\n",
    "    size = (second[i - 1].shape[1],second[i - 1].shape[0])\n",
    "    second_expanded = cv2.pyrUp(second[i],dstsize=size)\n",
    "    laplacian = cv2.subtract(second[i-1], second_expanded)\n",
    "    lpS.append(laplacian) \n",
    "\n",
    "LS = [] #empty list for reconstruction Image\n",
    "n = 0\n",
    "for la,lb in zip(lpF,lpS):\n",
    "    cols,rows,ch = la.shape\n",
    "    n += 1\n",
    "    ls = np.hstack((la[:,:int(cols/2)],lb[:,int(cols/2):]))\n",
    "    LS.append(ls)\n",
    "print('Length of LS: ',len(LS))\n",
    "reconstructed_image = LS[0]\n",
    "\n",
    "for i in range(1,5):\n",
    "    size = (LS[i].shape[1], LS[i].shape[0])\n",
    "    reconstructed_image = cv2.pyrUp(reconstructed_image, dstsize=size)\n",
    "    reconstructed_image = cv2.add(LS[i],reconstructed_image)\n",
    "cv2.imshow(\"blended image\",reconstructed_image)   # showing new reconstructed image\n",
    "cv2.waitKey(0)\n",
    "cv2.destroyAllWindows()"
   ]
  },
  {
   "cell_type": "markdown",
   "metadata": {},
   "source": [
    "###  Self Practice"
   ]
  },
  {
   "cell_type": "code",
   "execution_count": 4,
   "metadata": {},
   "outputs": [
    {
     "name": "stdout",
     "output_type": "stream",
     "text": [
      "(512, 512, 3)\n",
      "(512, 512, 3)\n"
     ]
    }
   ],
   "source": [
    "apple = cv2.imread('apple.jpg')\n",
    "orange = cv2.imread('orange.jpg')\n",
    "\n",
    "blend = np.hstack((apple[:,:256], orange[:,256:]))\n",
    "\n",
    "cv2.imshow('Blend', blend)\n",
    "\n",
    "print(apple.shape)\n",
    "print(orange.shape)\n",
    "\n",
    "cv2.waitKey(0)\n",
    "cv2.destroyAllWindows()"
   ]
  },
  {
   "cell_type": "code",
   "execution_count": 11,
   "metadata": {},
   "outputs": [],
   "source": [
    "# Image Blending\n",
    "#generate apple gaussian\n",
    "apple = cv2.imread('apple.jpg')\n",
    "gp_apple = [apple]\n",
    "\n",
    "for i in range(6):\n",
    "    layer = cv2.pyrDown(apple)\n",
    "    apple = layer\n",
    "    gp_apple.append(apple)\n",
    "    \n",
    "#generate orange gaussian\n",
    "orange = cv2.imread('orange.jpg')\n",
    "gp_orange = [orange]\n",
    "\n",
    "for i in range(6):\n",
    "    layer = cv2.pyrDown(orange)\n",
    "    orange = layer\n",
    "    gp_orange.append(orange)\n",
    "    \n",
    "#Generate Laplacian for apple\n",
    "last_apple = gp_apple[-1]\n",
    "lap_apple = [last_apple]\n",
    "\n",
    "for i in range(6,0,-1):\n",
    "    gp_apple_extend = cv2.pyrUp(gp_apple[i])\n",
    "    Laplacian = cv2.subtract(gp_apple[i-1],gp_apple_extend)\n",
    "    lap_apple.append(Laplacian)\n",
    "    \n",
    "#Generate Laplacian for orange\n",
    "last_orange = gp_orange[-1]\n",
    "lap_orange = [last_orange]\n",
    "\n",
    "for i in range(6,0,-1):\n",
    "    gp_orange_extend = cv2.pyrUp(gp_orange[i])\n",
    "    Laplacian = cv2.subtract(gp_orange[i-1],gp_orange_extend)\n",
    "    lap_orange.append(Laplacian)\n",
    "\n",
    "#Now add two images\n",
    "apple_orange_pyr = []\n",
    "n = 0\n",
    "for lp_apple,lp_orange in zip(lap_apple,lap_orange):\n",
    "    n += 1\n",
    "    cols,rows,channels = lp_apple.shape\n",
    "    Laplacian_stack = np.hstack((lp_apple[:,:int(cols/2)], lp_orange[:,int(cols/2):]))\n",
    "    apple_orange_pyr.append(Laplacian_stack)\n",
    "\n",
    "#reconstruct the image\n",
    "app_or_reconstruct = apple_orange_pyr[0]\n",
    "for i in range(1,7):\n",
    "    size = (apple_orange_pyr[i].shape[1], apple_orange_pyr[i].shape[0])\n",
    "    app_or_reconstruct = cv2.pyrUp(app_or_reconstruct, dstsize=size)\n",
    "    app_or_reconstruct = cv2.add(app_or_reconstruct,apple_orange_pyr[i])\n",
    "    \n",
    "cv2.imshow('Blended Image', app_or_reconstruct)\n",
    "cv2.waitKey(0)\n",
    "cv2.destroyAllWindows()\n",
    "    \n"
   ]
  },
  {
   "cell_type": "code",
   "execution_count": null,
   "metadata": {},
   "outputs": [],
   "source": []
  }
 ],
 "metadata": {
  "kernelspec": {
   "display_name": "Python 3",
   "language": "python",
   "name": "python3"
  },
  "language_info": {
   "codemirror_mode": {
    "name": "ipython",
    "version": 3
   },
   "file_extension": ".py",
   "mimetype": "text/x-python",
   "name": "python",
   "nbconvert_exporter": "python",
   "pygments_lexer": "ipython3",
   "version": "3.8.3"
  }
 },
 "nbformat": 4,
 "nbformat_minor": 4
}
