{
 "cells": [
  {
   "cell_type": "code",
   "execution_count": 1,
   "metadata": {},
   "outputs": [],
   "source": [
    "import cv2\n",
    "import numpy as np\n",
    "import matplotlib.pyplot as plt"
   ]
  },
  {
   "cell_type": "code",
   "execution_count": 28,
   "metadata": {},
   "outputs": [],
   "source": [
    "# if to work with images of different resolution and want to search face of different sizes. Use pyramid the create images\n",
    "# of different resolution and find the faces. Laplacian and Gaussian Pyramid\n",
    "#Gaussian has two method: pyrdown and pyrup\n",
    "\n",
    "img = cv2.imread('lena.jpg')\n",
    "lr1 = cv2.pyrDown(img)\n",
    "lr2 = cv2.pyrDown(lr1)\n",
    "ur1 = cv2.pyrUp(lr2)\n",
    "ur2 = cv2.pyrUp(ur1)\n",
    "\n",
    "cv2.imshow('Image',img)\n",
    "cv2.imshow('Pyr Down',lr1)\n",
    "cv2.imshow('Pyr Down 2',lr2)\n",
    "cv2.imshow('Pyr Up 1',ur1)\n",
    "cv2.imshow('Pyr Up 2',ur2)\n",
    "cv2.waitKey(0)\n",
    "cv2.destroyAllWindows()\n"
   ]
  },
  {
   "cell_type": "code",
   "execution_count": 29,
   "metadata": {},
   "outputs": [],
   "source": [
    "#Instead of doing this task repeteadly we can use for loop\n",
    "layer = img.copy()\n",
    "gp = [layer]\n",
    "\n",
    "for i in range(5):\n",
    "    layer = cv2.pyrDown(layer)\n",
    "    gp.append(layer)\n",
    "    cv2.imshow(str(i),layer)\n",
    "cv2.waitKey(0)\n",
    "cv2.destroyAllWindows()"
   ]
  },
  {
   "cell_type": "markdown",
   "metadata": {},
   "source": [
    "### Laplacian Pyramid"
   ]
  },
  {
   "cell_type": "code",
   "execution_count": 30,
   "metadata": {},
   "outputs": [],
   "source": [
    "#Instead of doing this task repeteadly we can use for loop\n",
    "layer = img.copy()\n",
    "gp = [layer]\n",
    "\n",
    "for i in range(6):\n",
    "    layer = cv2.pyrDown(layer)\n",
    "    gp.append(layer)\n",
    "    #cv2.imshow(str(i),layer)\n",
    "    \n",
    "layer = gp[-1]\n",
    "#cv2.imshow('Upper Level Gaussian Pyramid', layer)\n",
    "lp = [layer]\n",
    "for i in range(6,0,-1):\n",
    "    gaussian_extended = cv2.pyrUp(gp[i])\n",
    "    lapacian = cv2.subtract(gp[i-1],gaussian_extended)\n",
    "    cv2.imshow(str(i),lapacian)\n",
    "\n",
    "cv2.waitKey(0)\n",
    "cv2.destroyAllWindows()"
   ]
  },
  {
   "cell_type": "markdown",
   "metadata": {},
   "source": [
    "### Self Practice"
   ]
  },
  {
   "cell_type": "code",
   "execution_count": 31,
   "metadata": {},
   "outputs": [],
   "source": [
    "img = cv2.imread('messi.jpg')\n",
    "\n",
    "l1 = cv2.pyrDown(img)\n",
    "l2 = cv2.pyrDown(l1)\n",
    "u1 = cv2.pyrUp(l2)\n",
    "u2 = cv2.pyrUp(l1)\n",
    "\n",
    "x = [img,l1,l2,u1,u2]\n",
    "window = ['Original','L1','L2','U1','U2']\n",
    "\n",
    "for i in range(5):\n",
    "    cv2.imshow(window[i],x[i])\n",
    "\n",
    "\n",
    "\n",
    "cv2.waitKey(0)\n",
    "cv2.destroyAllWindows()"
   ]
  },
  {
   "cell_type": "code",
   "execution_count": 24,
   "metadata": {},
   "outputs": [],
   "source": [
    "#for various images use loop\n",
    "img = img.copy()\n",
    "gp = [img]\n",
    "\n",
    "for i in range(5):\n",
    "    layer = cv2.pyrDown(img)\n",
    "    img = layer\n",
    "    gp.append(layer)\n",
    "    cv2.imshow(str(i), img)\n",
    "\n",
    "cv2.waitKey(0)\n",
    "cv2.destroyAllWindows()"
   ]
  },
  {
   "cell_type": "code",
   "execution_count": 6,
   "metadata": {},
   "outputs": [],
   "source": [
    "##### Laplacian Pyramid\n",
    "img = cv2.imread('lena.jpg')\n",
    "img = img.copy()\n",
    "gp = [img]\n",
    "\n",
    "for i in range(4):\n",
    "    layer = cv2.pyrDown(img)\n",
    "    img = layer\n",
    "    gp.append(img)\n",
    "\n",
    "layer = gp[-1]\n",
    "lap = [layer]\n",
    "\n",
    "for i in range(4,0,-1):\n",
    "    gp_expand = cv2.pyrUp(gp[i])\n",
    "    laplacian = cv2.subtract(gp[i-1],gp_expand)\n",
    "    cv2.imshow(str(i),laplacian)\n",
    "\n",
    "cv2.waitKey(0)\n",
    "cv2.destroyAllWindows()"
   ]
  },
  {
   "cell_type": "code",
   "execution_count": null,
   "metadata": {},
   "outputs": [],
   "source": []
  }
 ],
 "metadata": {
  "kernelspec": {
   "display_name": "Python 3",
   "language": "python",
   "name": "python3"
  },
  "language_info": {
   "codemirror_mode": {
    "name": "ipython",
    "version": 3
   },
   "file_extension": ".py",
   "mimetype": "text/x-python",
   "name": "python",
   "nbconvert_exporter": "python",
   "pygments_lexer": "ipython3",
   "version": "3.8.3"
  }
 },
 "nbformat": 4,
 "nbformat_minor": 4
}
