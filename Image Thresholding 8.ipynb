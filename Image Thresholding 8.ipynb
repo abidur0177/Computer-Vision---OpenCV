{
 "cells": [
  {
   "cell_type": "code",
   "execution_count": 1,
   "metadata": {},
   "outputs": [],
   "source": [
    "import cv2\n",
    "import numpy as np"
   ]
  },
  {
   "cell_type": "markdown",
   "metadata": {},
   "source": [
    "### Simple Threshold"
   ]
  },
  {
   "cell_type": "code",
   "execution_count": 3,
   "metadata": {},
   "outputs": [],
   "source": [
    "#thresholding is used to seperate a object from its bg. compare each pixel of an image to a predefined Th value\n",
    "img = cv2.imread('gradient.jpg')\n",
    "#we have to define two variable. one is ret and the other is threshold value\n",
    "_,th_bin = cv2.threshold(img,127,255,cv2.THRESH_BINARY)\n",
    "_,th_bin_inv = cv2.threshold(img,127,255,cv2.THRESH_BINARY_INV)\n",
    "_,th_trun = cv2.threshold(img,127,255,cv2.THRESH_TRUNC)\n",
    "_,th_tozero = cv2.threshold(img,127,255,cv2.THRESH_TOZERO)\n",
    "_,th_tozero_inv = cv2.threshold(img,127,255,cv2.THRESH_TOZERO_INV)\n",
    "\n",
    "cv2.imshow('Image', img)\n",
    "cv2.imshow('Thresh_Binary',th_bin)\n",
    "cv2.imshow('Thresh_Binary_Inv',th_bin_inv)\n",
    "cv2.imshow('Thresh_Trun',th_trun)\n",
    "cv2.imshow('Thresh_Tozero',th_tozero)\n",
    "cv2.imshow('Thresh_Tozero_Inv',th_tozero_inv)\n",
    "cv2.waitKey(0)\n",
    "cv2.destroyAllWindows()"
   ]
  },
  {
   "cell_type": "markdown",
   "metadata": {},
   "source": [
    "### Adaptive Threshold"
   ]
  },
  {
   "cell_type": "code",
   "execution_count": 35,
   "metadata": {},
   "outputs": [],
   "source": [
    "img = cv2.imread('text.png',0)\n",
    "img = cv2.resize(img,(540,380))\n",
    "\n",
    "#just apply normal thresholding technique\n",
    "#_,th_bin = cv2.threshold(img,127,255,cv2.THRESH_BINARY)\n",
    "\n",
    "#Adaptive threshold takes a region and then calculate the threshold value\n",
    "thresh1 = cv2.adaptiveThreshold(img, 255, cv2.ADAPTIVE_THRESH_MEAN_C, \n",
    "                                          cv2.THRESH_BINARY, 15, 2) \n",
    "  \n",
    "thresh2 = cv2.adaptiveThreshold(img, 255, cv2.ADAPTIVE_THRESH_GAUSSIAN_C, \n",
    "                                          cv2.THRESH_BINARY, 15, 2) \n",
    "\n",
    "cv2.imshow('Image', img)\n",
    "#cv2.imshow('Binary', th_bin)\n",
    "cv2.imshow('Adaptive_mean', thresh1)\n",
    "cv2.imshow('Adaptive_mean_Gauss', thresh2)\n",
    "cv2.waitKey(0)\n",
    "cv2.destroyAllWindows()"
   ]
  },
  {
   "cell_type": "markdown",
   "metadata": {},
   "source": [
    "### Self Practice"
   ]
  },
  {
   "cell_type": "code",
   "execution_count": 14,
   "metadata": {},
   "outputs": [],
   "source": [
    "img = cv2.imread('text.png',0)\n",
    "img = cv2.resize(img,(700,580))\n",
    "\n",
    "th1 = cv2.adaptiveThreshold(img, 255, cv2.ADAPTIVE_THRESH_GAUSSIAN_C, cv2.THRESH_BINARY, 9,2)\n",
    "th2 = cv2.adaptiveThreshold(img, 255, cv2.ADAPTIVE_THRESH_MEAN_C, cv2.THRESH_BINARY, 7,2)\n",
    "\n",
    "cv2.imshow('Image',img)\n",
    "cv2.imshow('Gaussian', th1)\n",
    "cv2.imshow('Mean', th2)\n",
    "cv2.waitKey(0)\n",
    "cv2.destroyAllWindows()"
   ]
  },
  {
   "cell_type": "code",
   "execution_count": null,
   "metadata": {},
   "outputs": [],
   "source": []
  }
 ],
 "metadata": {
  "kernelspec": {
   "display_name": "Python 3",
   "language": "python",
   "name": "python3"
  },
  "language_info": {
   "codemirror_mode": {
    "name": "ipython",
    "version": 3
   },
   "file_extension": ".py",
   "mimetype": "text/x-python",
   "name": "python",
   "nbconvert_exporter": "python",
   "pygments_lexer": "ipython3",
   "version": "3.8.3"
  }
 },
 "nbformat": 4,
 "nbformat_minor": 4
}
