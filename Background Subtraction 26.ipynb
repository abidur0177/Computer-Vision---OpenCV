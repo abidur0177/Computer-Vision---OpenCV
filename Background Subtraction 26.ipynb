{
 "cells": [
  {
   "cell_type": "code",
   "execution_count": 2,
   "metadata": {},
   "outputs": [],
   "source": [
    "import cv2\n",
    "import numpy as np"
   ]
  },
  {
   "cell_type": "code",
   "execution_count": 3,
   "metadata": {},
   "outputs": [],
   "source": [
    "#it is useful when to use camera on visitors monitoring and getting traffic telemetry data from cars\n",
    "cap = cv2.VideoCapture('vtest.avi')\n",
    "fgbg = cv2.createBackgroundSubtractorMOG2()\n",
    "\n",
    "while(True):\n",
    "    ret,frame = cap.read()\n",
    "    if ret == True:\n",
    "        fgmask = fgbg.apply(frame)\n",
    "        \n",
    "        cv2.imshow('Frame', frame)\n",
    "        cv2.imshow('Mask', fgmask)\n",
    "        k = cv2.waitKey(40) & 0xFF\n",
    "        if k == 27 or k=='q':\n",
    "            break\n",
    "cap.release()\n",
    "cv2.destroyAllWindows()"
   ]
  },
  {
   "cell_type": "code",
   "execution_count": 4,
   "metadata": {},
   "outputs": [],
   "source": [
    "#it is useful when to use camera on visitors monitoring and getting traffic telemetry data from cars\n",
    "cap = cv2.VideoCapture('vtest.avi')\n",
    "fgbg = cv2.createBackgroundSubtractorKNN() \n",
    "#kernel = cv2.getStructuringElement(cv2.MORPH_ELLIPSE,(3,3)) #Kernel is needed for CMG only\n",
    "\n",
    "while(True):\n",
    "    ret,frame = cap.read()\n",
    "    if ret == True:\n",
    "        fgmask = fgbg.apply(frame)\n",
    "        #fgmask = cv2.morphologyEx(fgmask, cv2.MORPH_OPEN, kernel)\n",
    "        \n",
    "        cv2.imshow('Frame', frame)\n",
    "        cv2.imshow('Mask', fgmask)\n",
    "        k = cv2.waitKey(40) & 0xFF\n",
    "        if k == 27 or k=='q':\n",
    "            break\n",
    "cap.release()\n",
    "cv2.destroyAllWindows()"
   ]
  },
  {
   "cell_type": "code",
   "execution_count": null,
   "metadata": {},
   "outputs": [],
   "source": []
  }
 ],
 "metadata": {
  "kernelspec": {
   "display_name": "Python 3",
   "language": "python",
   "name": "python3"
  },
  "language_info": {
   "codemirror_mode": {
    "name": "ipython",
    "version": 3
   },
   "file_extension": ".py",
   "mimetype": "text/x-python",
   "name": "python",
   "nbconvert_exporter": "python",
   "pygments_lexer": "ipython3",
   "version": "3.8.3"
  }
 },
 "nbformat": 4,
 "nbformat_minor": 4
}
