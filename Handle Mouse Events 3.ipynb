{
 "cells": [
  {
   "cell_type": "code",
   "execution_count": 1,
   "metadata": {},
   "outputs": [],
   "source": [
    "import cv2\n",
    "import numpy as np\n",
    "import matplotlib.pyplot as plt\n",
    "%matplotlib inline\n",
    "import datetime"
   ]
  },
  {
   "cell_type": "code",
   "execution_count": 2,
   "metadata": {},
   "outputs": [
    {
     "data": {
      "text/plain": [
       "['EVENT_FLAG_ALTKEY',\n",
       " 'EVENT_FLAG_CTRLKEY',\n",
       " 'EVENT_FLAG_LBUTTON',\n",
       " 'EVENT_FLAG_MBUTTON',\n",
       " 'EVENT_FLAG_RBUTTON',\n",
       " 'EVENT_FLAG_SHIFTKEY',\n",
       " 'EVENT_LBUTTONDBLCLK',\n",
       " 'EVENT_LBUTTONDOWN',\n",
       " 'EVENT_LBUTTONUP',\n",
       " 'EVENT_MBUTTONDBLCLK',\n",
       " 'EVENT_MBUTTONDOWN',\n",
       " 'EVENT_MBUTTONUP',\n",
       " 'EVENT_MOUSEHWHEEL',\n",
       " 'EVENT_MOUSEMOVE',\n",
       " 'EVENT_MOUSEWHEEL',\n",
       " 'EVENT_RBUTTONDBLCLK',\n",
       " 'EVENT_RBUTTONDOWN',\n",
       " 'EVENT_RBUTTONUP']"
      ]
     },
     "execution_count": 2,
     "metadata": {},
     "output_type": "execute_result"
    }
   ],
   "source": [
    "# get all the functions and variable in cv2\n",
    "functions = [i for i in dir(cv2)]\n",
    "# get only the events in dir\n",
    "events = [i for i in dir(cv2) if 'EVENT' in i]\n",
    "events"
   ]
  },
  {
   "cell_type": "code",
   "execution_count": 3,
   "metadata": {},
   "outputs": [
    {
     "name": "stdout",
     "output_type": "stream",
     "text": [
      "121 192\n",
      "121 192\n"
     ]
    }
   ],
   "source": [
    "# First create a mouse callback function which is executed when the mouse event takes place\n",
    "def click_event(event, x, y, flags, param):\n",
    "    if event == cv2.EVENT_LBUTTONDBLCLK:\n",
    "        print(x,y)\n",
    "        font = cv2.FONT_HERSHEY_COMPLEX_SMALL\n",
    "        text = str(x)+', '+str(y)\n",
    "        cv2.putText(img2, text, (x,y), font, 1, (255,255,0), 1)\n",
    "        cv2.imshow('Image2', img2)\n",
    "\n",
    "img = np.zeros((1080, 720,3), np.uint8)\n",
    "img2 = np.zeros((640, 480,3), np.uint8)\n",
    "cv2.imshow('Image', img)\n",
    "cv2.imshow('Image2', img2)\n",
    "\n",
    "#call the MouseCallback funtion. whenever I click mouse, it will call the function and execute the code\n",
    "cv2.setMouseCallback('Image', click_event)\n",
    "cv2.waitKey(0)\n",
    "cv2.destroyAllWindows()"
   ]
  },
  {
   "cell_type": "code",
   "execution_count": 42,
   "metadata": {},
   "outputs": [],
   "source": [
    "# First create a mouse callback function which is executed when the mouse event takes place\n",
    "def click_event(event, x, y, flags, param):\n",
    "    if event == cv2.EVENT_LBUTTONDBLCLK:\n",
    "        print(x,y)\n",
    "        font = cv2.FONT_HERSHEY_COMPLEX_SMALL\n",
    "        text = str(x)+', '+str(y)\n",
    "        cv2.putText(img, text, (x,y), font, 1, (255,255,0), 2)\n",
    "        cv2.imshow('Image', img)\n",
    "        \n",
    "    #if event == cv2.EVENT_MOUSEMOVE:\n",
    "        #print(x,y)\n",
    "        \n",
    "    if event == cv2.EVENT_RBUTTONDOWN:\n",
    "        blue = img[x,y,0]\n",
    "        green = img[x,y,1]\n",
    "        red = img[x,y,2]\n",
    "        \n",
    "        text = str(blue)+', '+str(green)+', '+str(red)\n",
    "        font = cv2.FONT_HERSHEY_COMPLEX_SMALL\n",
    "        cv2.putText(img, text, (x,y), font, 1, (0,0,0), 2)\n",
    "        \n",
    "        cv2.imshow('Image', img)\n",
    "        print('Blue: {}, Green: {}, Red: {}'.format(blue,green,red))\n",
    "\n",
    "img = cv2.imread('starry_night.jpg')\n",
    "cv2.imshow('Image', img)\n",
    "\n",
    "#call the MouseCallback funtion. whenever I click mouse, it will call the function and execute the code\n",
    "cv2.setMouseCallback('Image', click_event)\n",
    "cv2.waitKey(0)\n",
    "cv2.destroyAllWindows()"
   ]
  },
  {
   "cell_type": "markdown",
   "metadata": {},
   "source": [
    "### More Mouse Click Event - connecting two points"
   ]
  },
  {
   "cell_type": "code",
   "execution_count": 18,
   "metadata": {},
   "outputs": [],
   "source": [
    "# First create a mouse callback function which is executed when the mouse event takes place\n",
    "def click_event(event, x, y, flags, param):\n",
    "    if event == cv2.EVENT_LBUTTONDOWN:\n",
    "        \n",
    "        cv2.circle(img,(x,y),3, (255,255,255),-1)\n",
    "        points.append((x,y)) #append the point \n",
    "        \n",
    "        if len(points) >=2: #if there is more than one points\n",
    "            cv2.arrowedLine(img, (points[-2]), (points[-1]), (0,0,255), 2) #draw an arrow line\n",
    "            \n",
    "        if len(points) > 10: #if there is more than 10 points\n",
    "            cv2.arrowedLine(img, (points[-1]), (points[0]), (0,0,255), 2) #close the line\n",
    "            \n",
    "        cv2.imshow('Image', img)\n",
    "    \n",
    "        \n",
    "    if event == cv2.EVENT_RBUTTONDOWN:\n",
    "        cv2.arrowedLine(img, (points[0]), (points[-1]), (0,0,255), 2)\n",
    "    \n",
    "    \n",
    "img = np.zeros((620,480,3), np.uint8)\n",
    "cv2.imshow('Image', img)\n",
    "points = []\n",
    "\n",
    "#call the MouseCallback funtion. whenever I click mouse, it will call the function and execute the code\n",
    "cv2.setMouseCallback('Image', click_event)\n",
    "cv2.waitKey(0)\n",
    "cv2.destroyAllWindows()"
   ]
  },
  {
   "cell_type": "markdown",
   "metadata": {},
   "source": [
    "### Show the color on a second window"
   ]
  },
  {
   "cell_type": "code",
   "execution_count": 25,
   "metadata": {},
   "outputs": [],
   "source": [
    "# First create a mouse callback function which is executed when the mouse event takes place\n",
    "def click_event(event, x, y, flags, param):\n",
    "    if event == cv2.EVENT_LBUTTONDOWN:\n",
    "        \n",
    "        blue = img[y,x,0]\n",
    "        green = img[y,x,1]\n",
    "        red = img[y,x,2]\n",
    "        cv2.circle(img,(x,y),3, (255,255,255),-1)\n",
    "        \n",
    "        mycolorimg = np.zeros((620,480,3), np.uint8)\n",
    "        mycolorimg[10:100, 20:200] = [blue,green,red]\n",
    "        cv2.imshow('new', mycolorimg)\n",
    "    \n",
    "    \n",
    "img = cv2.imread('starry_night.jpg')\n",
    "cv2.imshow('Image', img)\n",
    "points = []\n",
    "\n",
    "#call the MouseCallback funtion. whenever I click mouse, it will call the function and execute the code\n",
    "cv2.setMouseCallback('Image', click_event)\n",
    "cv2.waitKey(0)\n",
    "cv2.destroyAllWindows()"
   ]
  },
  {
   "cell_type": "markdown",
   "metadata": {},
   "source": [
    "### Self Practice"
   ]
  },
  {
   "cell_type": "code",
   "execution_count": 3,
   "metadata": {},
   "outputs": [
    {
     "data": {
      "text/plain": [
       "['EVENT_FLAG_ALTKEY',\n",
       " 'EVENT_FLAG_CTRLKEY',\n",
       " 'EVENT_FLAG_LBUTTON',\n",
       " 'EVENT_FLAG_MBUTTON',\n",
       " 'EVENT_FLAG_RBUTTON',\n",
       " 'EVENT_FLAG_SHIFTKEY',\n",
       " 'EVENT_LBUTTONDBLCLK',\n",
       " 'EVENT_LBUTTONDOWN',\n",
       " 'EVENT_LBUTTONUP',\n",
       " 'EVENT_MBUTTONDBLCLK',\n",
       " 'EVENT_MBUTTONDOWN',\n",
       " 'EVENT_MBUTTONUP',\n",
       " 'EVENT_MOUSEHWHEEL',\n",
       " 'EVENT_MOUSEMOVE',\n",
       " 'EVENT_MOUSEWHEEL',\n",
       " 'EVENT_RBUTTONDBLCLK',\n",
       " 'EVENT_RBUTTONDOWN',\n",
       " 'EVENT_RBUTTONUP']"
      ]
     },
     "execution_count": 3,
     "metadata": {},
     "output_type": "execute_result"
    }
   ],
   "source": [
    "#get all the available function\n",
    "x = [i for i in dir(cv2)]\n",
    "events = [i for i in dir(cv2) if 'EVENT' in i]\n",
    "events"
   ]
  },
  {
   "cell_type": "code",
   "execution_count": 9,
   "metadata": {},
   "outputs": [],
   "source": [
    "def mouse_event(event, x, y, flags, param):\n",
    "    if event == cv2.EVENT_FLAG_LBUTTON:\n",
    "        print(x,y)\n",
    "\n",
    "img1 = np.zeros((500,700), np.uint8)\n",
    "img2 = np.zeros((500,700), np.uint8)\n",
    "\n",
    "cv2.imshow('Image 1', img1)\n",
    "cv2.imshow('Image 2', img2)\n",
    "\n",
    "cv2.setMouseCallback('Image 1', mouse_event) #whenever I do someting onto the image 1 window, if this relates to the \n",
    "#defined mouse event, it will call the event\n",
    "\n",
    "cv2.waitKey(0)\n",
    "cv2.destroyAllWindows()"
   ]
  },
  {
   "cell_type": "code",
   "execution_count": 23,
   "metadata": {},
   "outputs": [
    {
     "name": "stdout",
     "output_type": "stream",
     "text": [
      "321 243\n",
      "300 149\n",
      "35 149\n",
      "62 334\n",
      "216 387\n",
      "536 222\n",
      "518 137\n",
      "329 126\n",
      "292 176\n",
      "476 353\n",
      "476 395\n",
      "394 433\n",
      "267 363\n",
      "244 253\n",
      "216 180\n"
     ]
    }
   ],
   "source": [
    "def mouse_event(event, x, y, flags, param):\n",
    "    if event == cv2.EVENT_FLAG_LBUTTON:\n",
    "        print(x,y)\n",
    "        font = cv2.FONT_HERSHEY_SCRIPT_COMPLEX\n",
    "        text = str(x)+','+str(y)\n",
    "        cv2.putText(img1, text, (x,y), font, 1, (115,173,18),2)\n",
    "        cv2.imshow('Image 2', img1)\n",
    "\n",
    "img1 = np.zeros((500,700), np.uint8)\n",
    "img2 = np.zeros((500,700), np.uint8)\n",
    "\n",
    "cv2.imshow('Image 1', img1)\n",
    "cv2.imshow('Image 2', img2)\n",
    "\n",
    "cv2.setMouseCallback('Image 2', mouse_event) #whenever I do someting onto the image 1 window, if this relates to the \n",
    "#defined mouse event, it will call the event\n",
    "\n",
    "cv2.waitKey(0)\n",
    "cv2.destroyAllWindows()"
   ]
  },
  {
   "cell_type": "code",
   "execution_count": 63,
   "metadata": {},
   "outputs": [],
   "source": [
    "def mouse_event(event, x, y, flags, param):\n",
    "    if event == cv2.EVENT_FLAG_LBUTTON:\n",
    "        font = cv2.FONT_HERSHEY_SCRIPT_COMPLEX\n",
    "        text = str(x)+','+str(y)\n",
    "        cv2.putText(img1, text, (x,y), font, 1, (115,173,18),2)\n",
    "        cv2.imshow('Image 1', img1)\n",
    "        \n",
    "    if event == cv2.EVENT_FLAG_RBUTTON:\n",
    "        blue = img1[y,x,0]\n",
    "        green = img1[y,x,1]\n",
    "        red = img1[y,x,2]\n",
    "        text = str(blue)+', '+str(green)+', '+str(red)\n",
    "        font = cv2.FONT_HERSHEY_SCRIPT_COMPLEX\n",
    "        cv2.putText(img1, text, (x,y), font, .5, (232,153,78),2)\n",
    "        cv2.imshow('Image 1', img1)\n",
    "\n",
    "img1 = cv2.imread('messi.jpg')\n",
    "img2 = np.zeros((500,700), np.uint8)\n",
    "\n",
    "cv2.imshow('Image 1', img1)\n",
    "\n",
    "cv2.setMouseCallback('Image 1', mouse_event) #whenever I do someting onto the image 1 window, if this relates to the \n",
    "#defined mouse event, it will call the event\n",
    "\n",
    "cv2.waitKey(0)\n",
    "cv2.destroyAllWindows()"
   ]
  },
  {
   "cell_type": "code",
   "execution_count": 57,
   "metadata": {},
   "outputs": [],
   "source": [
    "def mouse_event(event, x, y, flags, param):\n",
    "    if event == cv2.EVENT_FLAG_LBUTTON:\n",
    "        cv2.circle(img, (x,y), 2, (255,255,255), 2)\n",
    "        points.append((x,y))\n",
    "        if len(points)>=2:\n",
    "            cv2.arrowedLine(img, points[-2],points[-1], (255,255,255),2)\n",
    "        if len(points)>9:\n",
    "            cv2.arrowedLine(img, points[-1],points[0], (255,255,255),2)\n",
    "    cv2.imshow('Image', img)\n",
    "\n",
    "img = np.zeros((500,700), np.uint8)\n",
    "points = []\n",
    "cv2.imshow('Image',img)\n",
    "\n",
    "cv2.setMouseCallback('Image', mouse_event)\n",
    "\n",
    "cv2.waitKey(0)\n",
    "cv2.destroyAllWindows()"
   ]
  },
  {
   "cell_type": "code",
   "execution_count": 64,
   "metadata": {},
   "outputs": [],
   "source": [
    "def mouse_event(event, x, y, flags, param):\n",
    "    if event == cv2.EVENT_FLAG_LBUTTON:\n",
    "        b = img[y,x,0]\n",
    "        g = img[y,x,1]\n",
    "        r = img[y,x,2]\n",
    "        \n",
    "        img2[:] = [b,g,r]\n",
    "        cv2.imshow('Image 2',img2)\n",
    "        \n",
    "\n",
    "img = cv2.imread('messi.jpg')\n",
    "img2 = np.zeros_like(img)\n",
    "points = []\n",
    "cv2.imshow('Image',img)\n",
    "cv2.imshow('Image 2', img2)\n",
    "\n",
    "cv2.setMouseCallback('Image', mouse_event)\n",
    "\n",
    "cv2.waitKey(0)\n",
    "cv2.destroyAllWindows()"
   ]
  },
  {
   "cell_type": "code",
   "execution_count": null,
   "metadata": {},
   "outputs": [],
   "source": []
  },
  {
   "cell_type": "code",
   "execution_count": null,
   "metadata": {},
   "outputs": [],
   "source": []
  }
 ],
 "metadata": {
  "kernelspec": {
   "display_name": "Python 3",
   "language": "python",
   "name": "python3"
  },
  "language_info": {
   "codemirror_mode": {
    "name": "ipython",
    "version": 3
   },
   "file_extension": ".py",
   "mimetype": "text/x-python",
   "name": "python",
   "nbconvert_exporter": "python",
   "pygments_lexer": "ipython3",
   "version": "3.8.3"
  }
 },
 "nbformat": 4,
 "nbformat_minor": 4
}
