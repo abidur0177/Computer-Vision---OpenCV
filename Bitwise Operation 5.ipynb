{
 "cells": [
  {
   "cell_type": "code",
   "execution_count": 2,
   "metadata": {},
   "outputs": [],
   "source": [
    "import cv2\n",
    "import numpy as np"
   ]
  },
  {
   "cell_type": "code",
   "execution_count": 2,
   "metadata": {},
   "outputs": [],
   "source": [
    "#bitwise operation can be useful when working with mask\n",
    "\n",
    "img1 = np.zeros((250,500,3), np.uint8)\n",
    "img2 = cv2.imread('white.png')\n",
    "img2 = cv2.resize(img2, (500,250))\n",
    "black = img1[0:250,0:250]\n",
    "img2[0:250,0:250] = black\n",
    "img1 = cv2.rectangle(img1, (200,0),(300,100),(255,255,255),-1)\n",
    "\n",
    "cv2.imshow('Image1',img1)\n",
    "cv2.imshow('Image2',img2)\n",
    "\n",
    "#AND\n",
    "bit_And = cv2.bitwise_and(img2,img1)\n",
    "#cv2.imshow('Bit AND',bit_And)\n",
    "\n",
    "#OR\n",
    "bit_Or = cv2.bitwise_or(img2,img1)\n",
    "#cv2.imshow('Bit OR',bit_Or)\n",
    "\n",
    "#XOR\n",
    "bit_Xor = cv2.bitwise_xor(img2,img1)\n",
    "#cv2.imshow('Bit XOR',bit_Xor)\n",
    "\n",
    "#NOT\n",
    "bit_Not = cv2.bitwise_not(img1)\n",
    "cv2.imshow('Bit NOT',bit_Not)\n",
    "\n",
    "cv2.waitKey(0)\n",
    "cv2.destroyAllWindows()"
   ]
  },
  {
   "cell_type": "markdown",
   "metadata": {},
   "source": [
    "### Self Practice"
   ]
  },
  {
   "cell_type": "code",
   "execution_count": 8,
   "metadata": {},
   "outputs": [],
   "source": [
    "img1 = np.zeros((250,500,3), np.uint8)\n",
    "img2 = cv2.imread('white.png')\n",
    "img2 = cv2.resize(img2, (500,250))\n",
    "black = img1[0:250,0:250]\n",
    "img2[0:250,0:250] = black\n",
    "img1 = cv2.rectangle(img1, (200,0),(300,100),(255,255,255),-1)\n",
    "\n",
    "cv2.imshow('Image1',img1)\n",
    "cv2.imshow('Image2',img2)\n",
    "\n",
    "#There are different bitwise operation: AND , OR , XOR, NOT etc\n",
    "bit_and = cv2.bitwise_and(img1, img2)\n",
    "#cv2.imshow('AND', bit_and)\n",
    "\n",
    "bit_or = cv2.bitwise_or(img1,img2)\n",
    "#cv2.imshow('OR', bit_or)\n",
    "\n",
    "bit_xor = cv2.bitwise_xor(img1,img2)\n",
    "#cv2.imshow('XOR', bit_xor)\n",
    "\n",
    "bit_not = cv2.bitwise_not(img1)\n",
    "cv2.imshow('NOT', bit_not)\n",
    "\n",
    "cv2.waitKey(0)\n",
    "cv2.destroyAllWindows()"
   ]
  },
  {
   "cell_type": "code",
   "execution_count": null,
   "metadata": {},
   "outputs": [],
   "source": []
  }
 ],
 "metadata": {
  "kernelspec": {
   "display_name": "Python 3",
   "language": "python",
   "name": "python3"
  },
  "language_info": {
   "codemirror_mode": {
    "name": "ipython",
    "version": 3
   },
   "file_extension": ".py",
   "mimetype": "text/x-python",
   "name": "python",
   "nbconvert_exporter": "python",
   "pygments_lexer": "ipython3",
   "version": "3.8.3"
  }
 },
 "nbformat": 4,
 "nbformat_minor": 4
}
