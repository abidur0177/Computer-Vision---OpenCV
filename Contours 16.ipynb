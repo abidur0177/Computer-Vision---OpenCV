{
 "cells": [
  {
   "cell_type": "code",
   "execution_count": 1,
   "metadata": {},
   "outputs": [],
   "source": [
    "import cv2\n",
    "import numpy as np"
   ]
  },
  {
   "cell_type": "code",
   "execution_count": 2,
   "metadata": {},
   "outputs": [
    {
     "name": "stdout",
     "output_type": "stream",
     "text": [
      "Number of Contours = 12\n",
      "[[[ 73 208]]\n",
      "\n",
      " [[ 74 207]]\n",
      "\n",
      " [[ 75 207]]\n",
      "\n",
      " [[ 76 207]]\n",
      "\n",
      " [[ 77 207]]\n",
      "\n",
      " [[ 78 207]]\n",
      "\n",
      " [[ 79 207]]\n",
      "\n",
      " [[ 80 208]]\n",
      "\n",
      " [[ 81 209]]\n",
      "\n",
      " [[ 80 210]]\n",
      "\n",
      " [[ 79 210]]\n",
      "\n",
      " [[ 78 210]]\n",
      "\n",
      " [[ 77 210]]\n",
      "\n",
      " [[ 76 210]]\n",
      "\n",
      " [[ 75 210]]\n",
      "\n",
      " [[ 74 210]]\n",
      "\n",
      " [[ 73 210]]\n",
      "\n",
      " [[ 72 209]]]\n"
     ]
    }
   ],
   "source": [
    "#contours are curves joining all the continuous points along the boundary which are having the same color or intensity\n",
    "#useful for shape analysis, object detection and object recognition\n",
    "#for better accuracy we are going to use binary image. Before finding the contour we are going to apply thresholding \n",
    "# and canny edge detection\n",
    "img = cv2.imread('opencv.png')\n",
    "img_gray = cv2.imread('opencv.png',0)\n",
    "\n",
    "#apply threshold\n",
    "ret,thresh = cv2.threshold(img_gray,159,255,cv2.THRESH_BINARY)\n",
    "\n",
    "#the contours gives us two value, contours and hierarchy\n",
    "contours, hierarchy = cv2.findContours(thresh, cv2.RETR_TREE, cv2.CHAIN_APPROX_NONE)\n",
    "#contours gives us a list of numpy array of (x,y) coordinate system\n",
    "print('Number of Contours = '+str(len(contours)))\n",
    "print(contours[2])\n",
    "\n",
    "#now apply draw contours on original image to join all of them\n",
    "cv2.drawContours(img, contours, -1, (107,25,100), 2)\n",
    "\n",
    "cv2.imshow('OpenCV',img)\n",
    "cv2.imshow('OpenCV Thresh', thresh)\n",
    "cv2.imshow('OpenCV Gray',img_gray)\n",
    "cv2.waitKey(0)\n",
    "cv2.destroyAllWindows()"
   ]
  },
  {
   "cell_type": "markdown",
   "metadata": {},
   "source": [
    "### Self Practice"
   ]
  },
  {
   "cell_type": "code",
   "execution_count": 13,
   "metadata": {},
   "outputs": [],
   "source": [
    "def nothing(x):\n",
    "    pass\n",
    "\n",
    "cv2.namedWindow('Image')\n",
    "cv2.createTrackbar('Thresh Value', 'Image', 0,255, nothing)\n",
    "\n",
    "while(True):\n",
    "    img = cv2.imread('lane.jpg')\n",
    "    img = cv2.resize(img,(700,500))\n",
    "    \n",
    "    th = cv2.getTrackbarPos('Thresh Value', 'Image')\n",
    "\n",
    "    gray = cv2.cvtColor(img, cv2.COLOR_BGR2GRAY)\n",
    "\n",
    "    _,th = cv2.threshold(gray, th, 255, cv2.THRESH_BINARY)\n",
    "    contours, _ = cv2.findContours(th, cv2.RETR_TREE, cv2.CHAIN_APPROX_NONE)\n",
    "\n",
    "    cv2.drawContours(img, contours, -1, (150,20,150), 2)\n",
    "\n",
    "    cv2.imshow('Image', img)\n",
    "    if cv2.waitKey(1) & 0xFF == 27:\n",
    "        break\n",
    "cv2.destroyAllWindows()"
   ]
  },
  {
   "cell_type": "code",
   "execution_count": null,
   "metadata": {},
   "outputs": [],
   "source": []
  }
 ],
 "metadata": {
  "kernelspec": {
   "display_name": "Python 3",
   "language": "python",
   "name": "python3"
  },
  "language_info": {
   "codemirror_mode": {
    "name": "ipython",
    "version": 3
   },
   "file_extension": ".py",
   "mimetype": "text/x-python",
   "name": "python",
   "nbconvert_exporter": "python",
   "pygments_lexer": "ipython3",
   "version": "3.8.3"
  }
 },
 "nbformat": 4,
 "nbformat_minor": 4
}
