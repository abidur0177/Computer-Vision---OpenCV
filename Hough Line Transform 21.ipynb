{
 "cells": [
  {
   "cell_type": "code",
   "execution_count": 3,
   "metadata": {},
   "outputs": [],
   "source": [
    "import cv2\n",
    "import numpy as np"
   ]
  },
  {
   "cell_type": "code",
   "execution_count": 2,
   "metadata": {},
   "outputs": [],
   "source": [
    "#The hough line transformation is a method to detect any kind of shape if we can represent the shape in\n",
    "#mathematical form. It can detect even broken shape. Two kinds - Standard Hough Line, Probabilistic Hough Line Method\n",
    "\n",
    "img = cv2.imread('sudoku.png')\n",
    "img = cv2.resize(img, (500,400))\n",
    "gray = cv2.cvtColor(img, cv2.COLOR_BGR2GRAY)\n",
    "\n",
    "#step 1 - edge detection using canny\n",
    "edges = cv2.Canny(img, 50,150, apertureSize=3)\n",
    "\n",
    "#step 2 - Use Hough line (image, rho, theta, threshold). The lines return output vectors of lines which consist of\n",
    "#rho, theta and/or votes\n",
    "lines = cv2.HoughLines(edges, 1, np.pi/180, 200)\n",
    "\n",
    "for line in lines:\n",
    "    rho, theta = line[0]\n",
    "    a = np.cos(theta)\n",
    "    b = np.sin(theta)\n",
    "    x0 = a*rho\n",
    "    y0 = b*rho\n",
    "    \n",
    "    #x1 stores the rounded off value of (r*cos(theta) - 1000*(sin(theta)))\n",
    "    x1 = int(x0 + 1000*(-b))\n",
    "    #y1 stores the rounded off value of (r*sin(theta) + 1000*(cos(theta)))\n",
    "    y1 = int(y0 + 1000*(a))\n",
    "    #x2 stores the rounded off value of (r*cos(theta) + 1000*(sin(theta)))\n",
    "    x2 = int(x0 - 1000*(-b))\n",
    "    #y2 stores the rounded off value of (r*sin(theta) - 1000*(cos(theta)))\n",
    "    y2 = int(y0 - 1000*(a))\n",
    "    \n",
    "    cv2.line(img, (x1,y1),(x2,y2),(255,0,0),2)\n",
    "\n",
    "cv2.imshow('Image',img)\n",
    "cv2.imshow('Canny',edges)\n",
    "cv2.waitKey(0)\n",
    "cv2.destroyAllWindows()"
   ]
  },
  {
   "cell_type": "markdown",
   "metadata": {},
   "source": [
    "### Probabilistic Hough Line Transform"
   ]
  },
  {
   "cell_type": "code",
   "execution_count": 7,
   "metadata": {},
   "outputs": [],
   "source": [
    "#The hough line transformation is a method to detect any kind of shape if we can represent the shape in\n",
    "#mathematical form. It can detect even broken shape. Two kinds - Standard Hough Line, Probabilistic Hough Line Method\n",
    "\n",
    "img = cv2.imread('road.png')\n",
    "gray = cv2.cvtColor(img, cv2.COLOR_BGR2GRAY)\n",
    "\n",
    "#step 1 - edge detection using canny\n",
    "edges = cv2.Canny(img, 50,150, apertureSize=3)\n",
    "\n",
    "#step 2 - Use Hough line (image, rho, theta, threshold). The lines return output vectors of lines which consist of\n",
    "#rho, theta and/or votes\n",
    "lines = cv2.HoughLinesP(edges,1,np.pi/180,100,minLineLength=100, maxLineGap=10)\n",
    "\n",
    "for line in lines:\n",
    "    x1,y1,x2,y2 = line[0]\n",
    "    cv2.line(img, (x1,y1),(x2,y2),(0,155,200),2)\n",
    "\n",
    "cv2.imshow('Image',img)\n",
    "cv2.imshow('Canny',edges)\n",
    "cv2.waitKey(0)\n",
    "cv2.destroyAllWindows()"
   ]
  },
  {
   "cell_type": "markdown",
   "metadata": {},
   "source": [
    "### Self Practice"
   ]
  },
  {
   "cell_type": "code",
   "execution_count": 13,
   "metadata": {},
   "outputs": [],
   "source": [
    "img = cv2.imread('sudoku.png')\n",
    "img = cv2.resize(img, (500,400))\n",
    "gray = cv2.cvtColor(img, cv2.COLOR_BGR2GRAY)\n",
    "\n",
    "#canny edge \n",
    "edge = cv2.Canny(gray, 10, 40, apertureSize=3)\n",
    "\n",
    "#hough line\n",
    "lines = cv2.HoughLines(edge, 1, np.pi/180, 200)\n",
    "\n",
    "for line in lines:\n",
    "    rho, theta = line[0]\n",
    "    a = np.cos(theta)\n",
    "    b = np.sin(theta)\n",
    "    x0 = a*rho\n",
    "    y0 = b*rho\n",
    "    \n",
    "    #x1 stores the rounded off value of (r*cos(theta) - 1000*(sin(theta)))\n",
    "    x1 = int(x0 + 1000*(-b))\n",
    "    #y1 stores the rounded off value of (r*sin(theta) + 1000*(cos(theta)))\n",
    "    y1 = int(y0 + 1000*(a))\n",
    "    #x2 stores the rounded off value of (r*cos(theta) + 1000*(sin(theta)))\n",
    "    x2 = int(x0 - 1000*(-b))\n",
    "    #y2 stores the rounded off value of (r*sin(theta) - 1000*(cos(theta)))\n",
    "    y2 = int(y0 - 1000*(a))\n",
    "    \n",
    "    cv2.line(img, (x1,y1),(x2,y2), (215,52,157), 2)\n",
    "    \n",
    "cv2.imshow('Image',img)\n",
    "cv2.imshow('Canny',edges)\n",
    "cv2.waitKey(0)\n",
    "cv2.destroyAllWindows()"
   ]
  },
  {
   "cell_type": "markdown",
   "metadata": {},
   "source": [
    "### Probabilistic Hough Line"
   ]
  },
  {
   "cell_type": "code",
   "execution_count": 20,
   "metadata": {},
   "outputs": [],
   "source": [
    "#The hough line transformation is a method to detect any kind of shape if we can represent the shape in\n",
    "#mathematical form. It can detect even broken shape. Two kinds - Standard Hough Line, Probabilistic Hough Line Method\n",
    "\n",
    "img = cv2.imread('road.png')\n",
    "gray = cv2.cvtColor(img, cv2.COLOR_BGR2GRAY)\n",
    "\n",
    "#step 1 - edge detection using canny\n",
    "edges = cv2.Canny(img, 50,150, apertureSize=3)\n",
    "\n",
    "#step 2 - Use Hough line (image, rho, theta, threshold). The lines return output vectors of lines which consist of\n",
    "#rho, theta and/or votes\n",
    "lines = cv2.HoughLinesP(edges,1,np.pi/180,100,minLineLength=50, maxLineGap=10)\n",
    "\n",
    "for line in lines:\n",
    "    x1,y1,x2,y2 = line[0]\n",
    "    cv2.line(img, (x1,y1),(x2,y2),(0,155,200),2)\n",
    "\n",
    "cv2.imshow('Image',img)\n",
    "cv2.imshow('Canny',edges)\n",
    "cv2.waitKey(0)\n",
    "cv2.destroyAllWindows()"
   ]
  },
  {
   "cell_type": "code",
   "execution_count": null,
   "metadata": {},
   "outputs": [],
   "source": []
  }
 ],
 "metadata": {
  "kernelspec": {
   "display_name": "Python 3",
   "language": "python",
   "name": "python3"
  },
  "language_info": {
   "codemirror_mode": {
    "name": "ipython",
    "version": 3
   },
   "file_extension": ".py",
   "mimetype": "text/x-python",
   "name": "python",
   "nbconvert_exporter": "python",
   "pygments_lexer": "ipython3",
   "version": "3.8.3"
  }
 },
 "nbformat": 4,
 "nbformat_minor": 4
}
