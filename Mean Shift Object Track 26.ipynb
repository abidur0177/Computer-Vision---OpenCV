{
 "cells": [
  {
   "cell_type": "code",
   "execution_count": 1,
   "metadata": {},
   "outputs": [],
   "source": [
    "import cv2\n",
    "import numpy as np\n",
    "import matplotlib.pyplot as plt"
   ]
  },
  {
   "cell_type": "code",
   "execution_count": 2,
   "metadata": {},
   "outputs": [],
   "source": [
    "#Object tracking is process to locate the moving object. The object mean shifting steps are as follow:\n",
    "#Taking first frame of the video\n",
    "#setup initial location on window\n",
    "#set up the ROI for tracking\n",
    "#setup the termination criteria, either 10 iterations or move by 1 point\n",
    "cap = cv2.VideoCapture('slow_traffic.mkv')\n",
    "\n",
    "#Taking first frame of the video\n",
    "ret, frame = cap.read()\n",
    "\n",
    "#setup initial location on window\n",
    "x,y,w,h = 300,200,100,50\n",
    "track_window = (x,y,w,h)\n",
    "\n",
    "#set up the ROI for tracking\n",
    "roi = frame[y:y+h, x:x+w]\n",
    "\n",
    "#now apply histogram back projection\n",
    "roi_hsv = cv2.cvtColor(roi, cv2.COLOR_BGR2HSV)\n",
    "mask = cv2.inRange(roi_hsv, np.array((0.,60.,32.)),np.array((180.,255.,255.)))\n",
    "roi_hist = cv2.calcHist([roi_hsv], [0], mask, [180],[0,180])\n",
    "cv2.normalize(roi_hist,roi_hist,0, 255, cv2.NORM_MINMAX)\n",
    "term_crit = (cv2.TERM_CRITERIA_EPS|cv2.TERM_CRITERIA_COUNT,10,1)\n",
    "\n",
    "\n",
    "while(True):\n",
    "    ret, frame = cap.read()\n",
    "    if ret == True:\n",
    "        hsv = cv2.cvtColor(frame, cv2.COLOR_BGR2HSV)\n",
    "        dst = cv2.calcBackProject([hsv],[0], roi_hist, [0,180], 1)\n",
    "        ret, track_window = cv2.meanShift(dst, track_window, term_crit)\n",
    "        x,y,w,h = track_window\n",
    "        final_image = cv2.rectangle(frame,(x,y),(x+w,y+h),(0,255,2),3)\n",
    "        cv2.imshow('Frame',frame)\n",
    "        cv2.imshow('Final', final_image)\n",
    "        if cv2.waitKey(20) & 0xFF == 27:\n",
    "            break\n",
    "cap.release()\n",
    "cv2.destroyAllWindows()"
   ]
  },
  {
   "cell_type": "markdown",
   "metadata": {},
   "source": [
    "### Track Object using camshift"
   ]
  },
  {
   "cell_type": "code",
   "execution_count": 3,
   "metadata": {},
   "outputs": [],
   "source": [
    "#Object tracking is process to locate the moving object. The object mean shifting steps are as follow:\n",
    "#Taking first frame of the video\n",
    "#setup initial location on window\n",
    "#set up the ROI for tracking\n",
    "#setup the termination criteria, either 10 iterations or move by 1 point\n",
    "cap = cv2.VideoCapture('slow_traffic.mkv')\n",
    "\n",
    "#Taking first frame of the video\n",
    "ret, frame = cap.read()\n",
    "\n",
    "#setup initial location on window\n",
    "x,y,w,h = 300,200,100,50\n",
    "track_window = (x,y,w,h)\n",
    "\n",
    "#set up the ROI for tracking\n",
    "roi = frame[y:y+h, x:x+w]\n",
    "\n",
    "#now apply histogram back projection\n",
    "roi_hsv = cv2.cvtColor(roi, cv2.COLOR_BGR2HSV)\n",
    "mask = cv2.inRange(roi_hsv, np.array((0.,60.,32.)),np.array((180.,255.,255.)))\n",
    "roi_hist = cv2.calcHist([roi_hsv], [0], mask, [180],[0,180])\n",
    "cv2.normalize(roi_hist,roi_hist,0, 255, cv2.NORM_MINMAX)\n",
    "term_crit = (cv2.TERM_CRITERIA_EPS|cv2.TERM_CRITERIA_COUNT,10,1)\n",
    "\n",
    "\n",
    "while(True):\n",
    "    ret, frame = cap.read()\n",
    "    if ret == True:\n",
    "        hsv = cv2.cvtColor(frame, cv2.COLOR_BGR2HSV)\n",
    "        dst = cv2.calcBackProject([hsv],[0], roi_hist, [0,180], 1)\n",
    "        ret, track_window = cv2.CamShift(dst, track_window, term_crit)\n",
    "        x,y,w,h = track_window\n",
    "        final_image = cv2.rectangle(frame,(x,y),(x+w,y+h),(0,255,2),3)\n",
    "        cv2.imshow('Frame',frame)\n",
    "        cv2.imshow('Final', final_image)\n",
    "        if cv2.waitKey(20) & 0xFF == 27:\n",
    "            break\n",
    "cap.release()\n",
    "cv2.destroyAllWindows()"
   ]
  },
  {
   "cell_type": "code",
   "execution_count": 5,
   "metadata": {},
   "outputs": [],
   "source": [
    "#Object tracking is process to locate the moving object. The object mean shifting steps are as follow:\n",
    "#Taking first frame of the video\n",
    "#setup initial location on window\n",
    "#set up the ROI for tracking\n",
    "#setup the termination criteria, either 10 iterations or move by 1 point\n",
    "cap = cv2.VideoCapture('slow_traffic.mkv')\n",
    "\n",
    "#Taking first frame of the video\n",
    "ret, frame = cap.read()\n",
    "\n",
    "#setup initial location on window\n",
    "x,y,w,h = 300,200,100,50\n",
    "track_window = (x,y,w,h)\n",
    "\n",
    "#set up the ROI for tracking\n",
    "roi = frame[y:y+h, x:x+w]\n",
    "\n",
    "#now apply histogram back projection\n",
    "roi_hsv = cv2.cvtColor(roi, cv2.COLOR_BGR2HSV)\n",
    "mask = cv2.inRange(roi_hsv, np.array((0.,60.,32.)),np.array((180.,255.,255.)))\n",
    "roi_hist = cv2.calcHist([roi_hsv], [0], mask, [180],[0,180])\n",
    "cv2.normalize(roi_hist,roi_hist,0, 255, cv2.NORM_MINMAX)\n",
    "term_crit = (cv2.TERM_CRITERIA_EPS|cv2.TERM_CRITERIA_COUNT,10,1)\n",
    "\n",
    "\n",
    "while(True):\n",
    "    ret, frame = cap.read()\n",
    "    if ret == True:\n",
    "        hsv = cv2.cvtColor(frame, cv2.COLOR_BGR2HSV)\n",
    "        dst = cv2.calcBackProject([hsv],[0], roi_hist, [0,180], 1)\n",
    "        ret, track_window = cv2.CamShift(dst, track_window, term_crit)\n",
    "        pts = cv2.boxPoints(ret)\n",
    "        pts = np.int0(pts)\n",
    "        final_image = cv2.polylines(frame,[pts], True, (255,0,212),2)\n",
    "       \n",
    "        cv2.imshow('Frame',frame)\n",
    "        cv2.imshow('Final', final_image)\n",
    "        if cv2.waitKey(20) & 0xFF == 27:\n",
    "            break\n",
    "cap.release()\n",
    "cv2.destroyAllWindows()"
   ]
  },
  {
   "cell_type": "markdown",
   "metadata": {},
   "source": [
    "### Self Practice"
   ]
  },
  {
   "cell_type": "code",
   "execution_count": 12,
   "metadata": {},
   "outputs": [
    {
     "data": {
      "image/png": "[encoded data removed]",
      "text/plain": [
       "<Figure size 432x288 with 1 Axes>"
      ]
     },
     "metadata": {
      "needs_background": "light"
     },
     "output_type": "display_data"
    }
   ],
   "source": [
    "#First see histogram\n",
    "img = cv2.imread('sky.jpg')\n",
    "colors = {'b','g','r'}\n",
    "\n",
    "for i,col in enumerate(colors):\n",
    "    hist = cv2.calcHist(img, [i], None, [256], [0,255])\n",
    "    plt.plot(hist)\n",
    "\n",
    "\n",
    "cv2.imshow('Image', img)\n",
    "cv2.waitKey(0)\n",
    "cv2.destroyAllWindows()"
   ]
  },
  {
   "cell_type": "code",
   "execution_count": 6,
   "metadata": {},
   "outputs": [],
   "source": [
    "cap = cv2.VideoCapture('car racing.mp4')\n",
    "ret, frame = cap.read()\n",
    "\n",
    "frame_h, frame_w = frame.shape[:2]\n",
    "size = (frame_h, frame_w)\n",
    "w = frame_w//8\n",
    "h = frame_h//8\n",
    "x =200\n",
    "y = 400\n",
    "track_window = (x,y,w,h)\n",
    "\n",
    "roi = frame[y:y+h, x:x+w]\n",
    "hsv_roi = cv2.cvtColor(roi, cv2.COLOR_BGR2HSV)\n",
    "mask = None\n",
    "roi_hist = cv2.calcHist([hsv_roi], [0], mask, [180], [0,180])\n",
    "cv2.normalize(roi_hist, roi_hist, 0, 255, cv2.NORM_MINMAX)\n",
    "\n",
    "#now we define the iteration after which the shift will end.\n",
    "term_crit = (cv2.TERM_CRITERIA_COUNT | cv2.TERM_CRITERIA_EPS, 10 ,1)\n",
    "\n",
    "true, frame = cap.read()\n",
    "while(True):\n",
    "    if true == True:\n",
    "        hsv = cv2.cvtColor(frame, cv2.COLOR_BGR2HSV)\n",
    "        back_project = cv2.calcBackProject([hsv], [0], roi_hist, [0,180], 1)\n",
    "        num_iters,window = cv2.meanShift(back_project, track_window, term_crit)\n",
    "        \n",
    "        x,y,w,h = window\n",
    "        cv2.rectangle(frame, (x,y), (x+w, y+h), (242,51,185),2)\n",
    "        cv2.imshow('Frame', frame)\n",
    "        \n",
    "        true, frame = cap.read()\n",
    "        #cv2.imshow('back-projection', back_project)\n",
    "        if cv2.waitKey(30) & 0xFF == 27:\n",
    "            break\n",
    "\n",
    "cap.release()\n",
    "cv2.destroyAllWindows()"
   ]
  },
  {
   "cell_type": "code",
   "execution_count": null,
   "metadata": {},
   "outputs": [],
   "source": [
    "\n",
    "\n",
    "    "
   ]
  },
  {
   "cell_type": "code",
   "execution_count": null,
   "metadata": {},
   "outputs": [],
   "source": []
  }
 ],
 "metadata": {
  "kernelspec": {
   "display_name": "Python 3",
   "language": "python",
   "name": "python3"
  },
  "language_info": {
   "codemirror_mode": {
    "name": "ipython",
    "version": 3
   },
   "file_extension": ".py",
   "mimetype": "text/x-python",
   "name": "python",
   "nbconvert_exporter": "python",
   "pygments_lexer": "ipython3",
   "version": "3.8.3"
  }
 },
 "nbformat": 4,
 "nbformat_minor": 4
}
