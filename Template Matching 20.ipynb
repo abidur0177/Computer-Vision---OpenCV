{
 "cells": [
  {
   "cell_type": "code",
   "execution_count": 1,
   "metadata": {},
   "outputs": [],
   "source": [
    "import cv2\n",
    "import matplotlib.pyplot as plt\n",
    "import numpy as np\n",
    "%matplotlib inline"
   ]
  },
  {
   "cell_type": "code",
   "execution_count": 16,
   "metadata": {},
   "outputs": [
    {
     "name": "stdout",
     "output_type": "stream",
     "text": [
      "(array([65], dtype=int64), array([209], dtype=int64))\n"
     ]
    }
   ],
   "source": [
    "#template matching is the method of searching and finding a template image within a larger image\n",
    "\n",
    "img = cv2.imread('messi.jpg')\n",
    "gray_img = cv2.imread('messi.jpg',0)\n",
    "\n",
    "#now load the messi face image\n",
    "template = cv2.imread('messi_face.jpg',0)\n",
    "w,h = template.shape[::-1] #getting the widht. height to draw rectangle\n",
    "\n",
    "res = cv2.matchTemplate(gray_img,template,cv2.TM_CCOEFF_NORMED)\n",
    "#print(res) #there will be 1 within the matrix where the top left corner of messi face matches with the larger image\n",
    "thresh = .92\n",
    "loc = np.where(res>=thresh)\n",
    "print(loc)\n",
    "\n",
    "#if there are several points then we will use for loop\n",
    "for pt in zip(*loc[::-1]):\n",
    "    cv2.rectangle(img, pt, (pt[0]+w, pt[1]+h), (0,255,0), 2)\n",
    "\n",
    "cv2.imshow('Messi',img)\n",
    "cv2.waitKey(0)\n",
    "cv2.destroyAllWindows()"
   ]
  },
  {
   "cell_type": "code",
   "execution_count": 35,
   "metadata": {},
   "outputs": [
    {
     "name": "stdout",
     "output_type": "stream",
     "text": [
      "(342, 548, 3)\n"
     ]
    }
   ],
   "source": [
    "print(img.shape)"
   ]
  },
  {
   "cell_type": "code",
   "execution_count": 5,
   "metadata": {},
   "outputs": [],
   "source": [
    "img2 = img[20:200,32:234]\n",
    "cv2.imshow('I', img2)\n",
    "cv2.waitKey(0)\n",
    "cv2.destroyAllWindows()"
   ]
  },
  {
   "cell_type": "code",
   "execution_count": 45,
   "metadata": {},
   "outputs": [],
   "source": [
    "rect = cv2.rectangle(img, (50,40), (200,150), (0,0,0), 2)\n",
    "cv2.imshow('rect', img)\n",
    "cv2.waitKey(0)\n",
    "cv2.destroyAllWindows()"
   ]
  },
  {
   "cell_type": "markdown",
   "metadata": {},
   "source": [
    "### Self practice"
   ]
  },
  {
   "cell_type": "code",
   "execution_count": 17,
   "metadata": {},
   "outputs": [
    {
     "name": "stdout",
     "output_type": "stream",
     "text": [
      "(array([65], dtype=int64), array([209], dtype=int64))\n"
     ]
    }
   ],
   "source": [
    "img = cv2.imread('messi.jpg')\n",
    "gray = cv2.cvtColor(img, cv2.COLOR_BGR2GRAY)\n",
    "\n",
    "face = cv2.imread('messi_face.jpg',0)\n",
    "h,w = face.shape\n",
    "\n",
    "res = cv2.matchTemplate(gray, face, cv2.TM_CCOEFF_NORMED)\n",
    "\n",
    "thresh = .99\n",
    "loc = np.where(res>=thresh)\n",
    "print(loc)\n",
    "for pt in zip(*loc[::-1]):\n",
    "    cv2.rectangle(img, pt, (pt[0]+w, pt[1]+h), (0,0,255), 2)\n",
    "cv2.imshow('Image', img)\n",
    "cv2.waitKey(0)\n",
    "cv2.destroyAllWindows()\n"
   ]
  },
  {
   "cell_type": "code",
   "execution_count": null,
   "metadata": {},
   "outputs": [],
   "source": []
  }
 ],
 "metadata": {
  "kernelspec": {
   "display_name": "Python 3",
   "language": "python",
   "name": "python3"
  },
  "language_info": {
   "codemirror_mode": {
    "name": "ipython",
    "version": 3
   },
   "file_extension": ".py",
   "mimetype": "text/x-python",
   "name": "python",
   "nbconvert_exporter": "python",
   "pygments_lexer": "ipython3",
   "version": "3.8.3"
  }
 },
 "nbformat": 4,
 "nbformat_minor": 4
}
