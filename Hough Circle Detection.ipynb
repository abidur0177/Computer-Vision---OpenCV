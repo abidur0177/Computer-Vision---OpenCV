{
 "cells": [
  {
   "cell_type": "code",
   "execution_count": 1,
   "metadata": {},
   "outputs": [],
   "source": [
    "import cv2\n",
    "import numpy as np\n",
    "import matplotlib.pyplot as plt"
   ]
  },
  {
   "cell_type": "code",
   "execution_count": 13,
   "metadata": {},
   "outputs": [],
   "source": [
    "img = cv2.imread('shape.jpg')\n",
    "output = img.copy()\n",
    "gray = cv2.cvtColor(output, cv2.COLOR_BGR2GRAY)\n",
    "blur = cv2.medianBlur(gray, 5)\n",
    "#now apply hough circle to get the vector of circles\n",
    "circles = cv2.HoughCircles(blur, cv2.HOUGH_GRADIENT, 1, 20, param1=100, param2=50, minRadius=0, maxRadius=0)\n",
    "#now convert the vector into an integer x, y, and radius\n",
    "detected_circles = np.uint16(np.around(circles))\n",
    "\n",
    "for x,y,r in detected_circles[0,:]:\n",
    "    cv2.circle(output, (x,y), r, (0,0,0),2)\n",
    "    cv2.circle(output, (x,y), 2, (151,62,200),2)\n",
    "\n",
    "\n",
    "cv2.imshow('image',img)\n",
    "cv2.imshow('Circle',output)\n",
    "cv2.waitKey(0)\n",
    "cv2.destroyAllWindows()"
   ]
  },
  {
   "cell_type": "code",
   "execution_count": null,
   "metadata": {},
   "outputs": [],
   "source": []
  }
 ],
 "metadata": {
  "kernelspec": {
   "display_name": "Python 3",
   "language": "python",
   "name": "python3"
  },
  "language_info": {
   "codemirror_mode": {
    "name": "ipython",
    "version": 3
   },
   "file_extension": ".py",
   "mimetype": "text/x-python",
   "name": "python",
   "nbconvert_exporter": "python",
   "pygments_lexer": "ipython3",
   "version": "3.8.3"
  }
 },
 "nbformat": 4,
 "nbformat_minor": 4
}
