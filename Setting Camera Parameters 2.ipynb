{
 "cells": [
  {
   "cell_type": "code",
   "execution_count": 7,
   "metadata": {},
   "outputs": [],
   "source": [
    "import cv2\n",
    "import numpy as np\n",
    "import matplotlib.pyplot as plt\n",
    "%matplotlib inline\n",
    "import datetime"
   ]
  },
  {
   "cell_type": "code",
   "execution_count": 8,
   "metadata": {},
   "outputs": [
    {
     "name": "stdout",
     "output_type": "stream",
     "text": [
      "640.0\n",
      "480.0\n",
      "1280.0\n",
      "720.0\n"
     ]
    }
   ],
   "source": [
    "cap = cv2.VideoCapture(0)\n",
    "\n",
    "print(cap.get(cv2.CAP_PROP_FRAME_WIDTH))\n",
    "print(cap.get(cv2.CAP_PROP_FRAME_HEIGHT))\n",
    "#Every property has its own number. so we can replace cv2.CAP_PROP_FRAME_HEIGHT by the number \n",
    "#And we can use cv2.set to set the property\n",
    "\n",
    "cap.set(3, 3000) # select the width property and set the width of the camera\n",
    "cap.set(4, 3000)\n",
    "\n",
    "\n",
    "print(cap.get(3)) #This will not return the given resolution unless it is predefined for the camera\n",
    "print(cap.get(4)) # If we set very high resolution then it will return the highest resolution possible\n",
    "\n",
    "while(cap.isOpened()):\n",
    "    ret, frame = cap.read()\n",
    "    if ret == True:\n",
    "        gray = cv2.cvtColor(frame, cv2.COLOR_BGR2GRAY)\n",
    "        cv2.imshow('frame', frame)\n",
    "\n",
    "        if cv2.waitKey(1) & 0xFF ==ord('q'):\n",
    "            break\n",
    "cap.release()\n",
    "cv2.destroyAllWindows()"
   ]
  },
  {
   "cell_type": "markdown",
   "metadata": {},
   "source": [
    "### Showing date and time on videos"
   ]
  },
  {
   "cell_type": "code",
   "execution_count": 21,
   "metadata": {},
   "outputs": [
    {
     "name": "stdout",
     "output_type": "stream",
     "text": [
      "640.0\n",
      "480.0\n"
     ]
    }
   ],
   "source": [
    "cap = cv2.VideoCapture(0)\n",
    "\n",
    "print(cap.get(cv2.CAP_PROP_FRAME_WIDTH))\n",
    "print(cap.get(cv2.CAP_PROP_FRAME_HEIGHT))\n",
    "#Every property has its own number. so we can replace cv2.CAP_PROP_FRAME_HEIGHT by the number \n",
    "#And we can use cv2.set to set the property\n",
    "\n",
    "#cap.set(3, 640) # select the width property and set the width of the camera\n",
    "#cap.set(4, 480)\n",
    "\n",
    "\n",
    "#print(cap.get(3)) #This will not return the given resolution unless it is predefined for the camera\n",
    "#print(cap.get(4)) # If we set very high resolution then it will return the highest resolution possible\n",
    "\n",
    "while(cap.isOpened()):\n",
    "    ret, frame = cap.read()\n",
    "    if ret == True:\n",
    "        \n",
    "        font = cv2.FONT_HERSHEY_DUPLEX #set the font\n",
    "        text = 'Width: '+str(cap.get(3))+' Height: '+str(cap.get(4)) #get the text to be inputed\n",
    "        dt = str(datetime.datetime.now()) #get the current datetime\n",
    "        frame = cv2.putText(frame, dt, (10,50), font, .7, (0,255,255), 4, cv2.LINE_AA)\n",
    "        frame = cv2.arrowedLine(frame, (10,70),(300,150), (200,143,38),5)\n",
    "        cv2.imshow('frame', frame)\n",
    "\n",
    "        if cv2.waitKey(1) & 0xFF ==ord('q'):\n",
    "            break\n",
    "cap.release()\n",
    "cv2.destroyAllWindows()"
   ]
  },
  {
   "cell_type": "markdown",
   "metadata": {},
   "source": [
    "### Self Practice"
   ]
  },
  {
   "cell_type": "code",
   "execution_count": 9,
   "metadata": {},
   "outputs": [
    {
     "name": "stdout",
     "output_type": "stream",
     "text": [
      "480.0\n",
      "640.0\n"
     ]
    }
   ],
   "source": [
    "cap = cv2.VideoCapture(0)\n",
    "print(cap.get(cv2.CAP_PROP_FRAME_HEIGHT))\n",
    "print(cap.get(cv2.CAP_PROP_FRAME_WIDTH))\n",
    "\n",
    "cap.set(3, 720)\n",
    "cap.set(4,680)\n",
    "\n",
    "while(True):\n",
    "    ret, frame = cap.read()\n",
    "    if ret == True:\n",
    "        font = cv2.FONT_HERSHEY_COMPLEX_SMALL\n",
    "        data = 'Width: '+str(cap.get(3))+' height: '+str(cap.get(4))\n",
    "        cv2.putText(frame, data,(20,20),font, 1, (241,53,135), 3)\n",
    "        time = 'Time: '+str(datetime.datetime.now())\n",
    "        cv2.putText(frame, time,(20,40),font, 1, (21,53,35), 3)\n",
    "        \n",
    "        cv2.imshow('frame', frame)\n",
    "\n",
    "        if cv2.waitKey(1) & 0xFF ==ord('q'):\n",
    "            break\n",
    "cap.release()\n",
    "cv2.destroyAllWindows()   "
   ]
  },
  {
   "cell_type": "code",
   "execution_count": null,
   "metadata": {},
   "outputs": [],
   "source": []
  }
 ],
 "metadata": {
  "kernelspec": {
   "display_name": "Python 3",
   "language": "python",
   "name": "python3"
  },
  "language_info": {
   "codemirror_mode": {
    "name": "ipython",
    "version": 3
   },
   "file_extension": ".py",
   "mimetype": "text/x-python",
   "name": "python",
   "nbconvert_exporter": "python",
   "pygments_lexer": "ipython3",
   "version": "3.8.3"
  }
 },
 "nbformat": 4,
 "nbformat_minor": 4
}
